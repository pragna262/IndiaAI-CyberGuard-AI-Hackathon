{
 "cells": [
  {
   "cell_type": "code",
   "execution_count": 1,
   "id": "e00e2540-41a1-4c74-a684-5377e0146100",
   "metadata": {},
   "outputs": [],
   "source": [
    "import numpy as np\n",
    "import pandas as pd\n",
    "import matplotlib.pyplot as plt"
   ]
  },
  {
   "cell_type": "code",
   "execution_count": 2,
   "id": "52431eb8-bd90-4f51-9f80-74c8f2217659",
   "metadata": {},
   "outputs": [],
   "source": [
    "train_df = pd.read_csv(r'\\Users\\Greesma\\Desktop\\NLP\\train.csv', encoding='ISO-8859-1', low_memory=False)\n",
    "test_df = pd.read_csv(r'\\Users\\Greesma\\Desktop\\NLP\\test.csv')"
   ]
  },
  {
   "cell_type": "code",
   "execution_count": 3,
   "id": "5ae5ba52-2623-4253-9523-f0780ac53c04",
   "metadata": {},
   "outputs": [
    {
     "data": {
      "text/html": [
       "<div>\n",
       "<style scoped>\n",
       "    .dataframe tbody tr th:only-of-type {\n",
       "        vertical-align: middle;\n",
       "    }\n",
       "\n",
       "    .dataframe tbody tr th {\n",
       "        vertical-align: top;\n",
       "    }\n",
       "\n",
       "    .dataframe thead th {\n",
       "        text-align: right;\n",
       "    }\n",
       "</style>\n",
       "<table border=\"1\" class=\"dataframe\">\n",
       "  <thead>\n",
       "    <tr style=\"text-align: right;\">\n",
       "      <th></th>\n",
       "      <th>category</th>\n",
       "      <th>sub_category</th>\n",
       "      <th>crimeaditionalinfo</th>\n",
       "    </tr>\n",
       "  </thead>\n",
       "  <tbody>\n",
       "    <tr>\n",
       "      <th>0</th>\n",
       "      <td>RapeGang Rape RGRSexually Abusive Content</td>\n",
       "      <td>NaN</td>\n",
       "      <td>Sir namaskar  mein Ranjit Kumar PatraPaise neh...</td>\n",
       "    </tr>\n",
       "    <tr>\n",
       "      <th>1</th>\n",
       "      <td>Online Financial Fraud</td>\n",
       "      <td>DebitCredit Card FraudSim Swap Fraud</td>\n",
       "      <td>KOTAK MAHINDRA BANK FRAUD\\r\\nFRAUD AMOUNT</td>\n",
       "    </tr>\n",
       "    <tr>\n",
       "      <th>2</th>\n",
       "      <td>Cyber Attack/ Dependent Crimes</td>\n",
       "      <td>SQL Injection</td>\n",
       "      <td>The issue actually started when I got this ema...</td>\n",
       "    </tr>\n",
       "    <tr>\n",
       "      <th>3</th>\n",
       "      <td>Online Financial Fraud</td>\n",
       "      <td>Fraud CallVishing</td>\n",
       "      <td>I am amit kumar from karwi chitrakoot I am tot...</td>\n",
       "    </tr>\n",
       "    <tr>\n",
       "      <th>4</th>\n",
       "      <td>Any Other Cyber Crime</td>\n",
       "      <td>Other</td>\n",
       "      <td>I have ordered  saree and  blouse from rinki s...</td>\n",
       "    </tr>\n",
       "  </tbody>\n",
       "</table>\n",
       "</div>"
      ],
      "text/plain": [
       "                                    category  \\\n",
       "0  RapeGang Rape RGRSexually Abusive Content   \n",
       "1                     Online Financial Fraud   \n",
       "2             Cyber Attack/ Dependent Crimes   \n",
       "3                     Online Financial Fraud   \n",
       "4                      Any Other Cyber Crime   \n",
       "\n",
       "                           sub_category  \\\n",
       "0                                   NaN   \n",
       "1  DebitCredit Card FraudSim Swap Fraud   \n",
       "2                         SQL Injection   \n",
       "3                     Fraud CallVishing   \n",
       "4                                 Other   \n",
       "\n",
       "                                  crimeaditionalinfo  \n",
       "0  Sir namaskar  mein Ranjit Kumar PatraPaise neh...  \n",
       "1          KOTAK MAHINDRA BANK FRAUD\\r\\nFRAUD AMOUNT  \n",
       "2  The issue actually started when I got this ema...  \n",
       "3  I am amit kumar from karwi chitrakoot I am tot...  \n",
       "4  I have ordered  saree and  blouse from rinki s...  "
      ]
     },
     "execution_count": 3,
     "metadata": {},
     "output_type": "execute_result"
    }
   ],
   "source": [
    "train_df.head()\n",
    "test_df.head()"
   ]
  },
  {
   "cell_type": "code",
   "execution_count": 4,
   "id": "c598f0b3-6632-468d-974b-4fccf58d940e",
   "metadata": {},
   "outputs": [
    {
     "data": {
      "text/plain": [
       "category                 0\n",
       "sub_category          6591\n",
       "crimeaditionalinfo      21\n",
       "dtype: int64"
      ]
     },
     "execution_count": 4,
     "metadata": {},
     "output_type": "execute_result"
    }
   ],
   "source": [
    "train_df.isna().sum()"
   ]
  },
  {
   "cell_type": "code",
   "execution_count": 5,
   "id": "7a1fa49a-c87b-4723-9b25-e0a97d7fc235",
   "metadata": {},
   "outputs": [
    {
     "data": {
      "text/plain": [
       "category                 0\n",
       "sub_category          2236\n",
       "crimeaditionalinfo       7\n",
       "dtype: int64"
      ]
     },
     "execution_count": 5,
     "metadata": {},
     "output_type": "execute_result"
    }
   ],
   "source": [
    "test_df.isna().sum()"
   ]
  },
  {
   "cell_type": "code",
   "execution_count": 6,
   "id": "74b59940-bcbe-4ca4-9d76-f4f1c9a6cd15",
   "metadata": {},
   "outputs": [
    {
     "data": {
      "text/plain": [
       "category              0\n",
       "sub_category          0\n",
       "crimeaditionalinfo    0\n",
       "dtype: int64"
      ]
     },
     "execution_count": 6,
     "metadata": {},
     "output_type": "execute_result"
    }
   ],
   "source": [
    "# Remove rows with any null values\n",
    "test_df_cleaned = test_df.dropna()\n",
    "\n",
    "# Verify the null values are removed\n",
    "test_df_cleaned.isna().sum()\n"
   ]
  },
  {
   "cell_type": "code",
   "execution_count": 7,
   "id": "c43ec7d7-cb47-4232-910d-8f43220ae275",
   "metadata": {},
   "outputs": [
    {
     "data": {
      "text/plain": [
       "category              0\n",
       "sub_category          0\n",
       "crimeaditionalinfo    0\n",
       "dtype: int64"
      ]
     },
     "execution_count": 7,
     "metadata": {},
     "output_type": "execute_result"
    }
   ],
   "source": [
    "# Remove rows with any null values\n",
    "train_df_cleaned = train_df.dropna()\n",
    "\n",
    "# Verify the null values are removed\n",
    "train_df_cleaned.isna().sum()\n"
   ]
  },
  {
   "cell_type": "code",
   "execution_count": 12,
   "id": "b3cad778-c447-4919-9ec5-e61d55cefb2c",
   "metadata": {},
   "outputs": [],
   "source": [
    "# Save cleaned data to a new CSV file\n",
    "test_df_cleaned.to_csv(r'\\Users\\Greesma\\Desktop\\NLP\\test_cleaned.csv', index=False)"
   ]
  },
  {
   "cell_type": "code",
   "execution_count": 13,
   "id": "22e486bb-f247-4d54-8fff-2532cc4b1442",
   "metadata": {},
   "outputs": [],
   "source": [
    "train_df_cleaned.to_csv(r'\\Users\\Greesma\\Desktop\\NLP\\train_cleaned.csv', index=False)"
   ]
  },
  {
   "cell_type": "code",
   "execution_count": 18,
   "id": "0a9ee33f",
   "metadata": {},
   "outputs": [
    {
     "data": {
      "text/plain": [
       "(93686, 3)"
      ]
     },
     "execution_count": 18,
     "metadata": {},
     "output_type": "execute_result"
    }
   ],
   "source": [
    "train_df.shape"
   ]
  },
  {
   "cell_type": "code",
   "execution_count": 19,
   "id": "0eae0a88",
   "metadata": {},
   "outputs": [
    {
     "data": {
      "text/plain": [
       "(31229, 3)"
      ]
     },
     "execution_count": 19,
     "metadata": {},
     "output_type": "execute_result"
    }
   ],
   "source": [
    "test_df.shape"
   ]
  },
  {
   "cell_type": "code",
   "execution_count": 16,
   "id": "28324db5-efa4-474a-a6ae-cc3d93e00689",
   "metadata": {},
   "outputs": [
    {
     "data": {
      "text/plain": [
       "(87074, 3)"
      ]
     },
     "execution_count": 16,
     "metadata": {},
     "output_type": "execute_result"
    }
   ],
   "source": [
    "train_df_cleaned.shape"
   ]
  },
  {
   "cell_type": "code",
   "execution_count": 17,
   "id": "a6338bb0-f317-4ecd-95cd-f82e71201099",
   "metadata": {},
   "outputs": [
    {
     "data": {
      "text/plain": [
       "(28987, 3)"
      ]
     },
     "execution_count": 17,
     "metadata": {},
     "output_type": "execute_result"
    }
   ],
   "source": [
    "test_df_cleaned.shape"
   ]
  },
  {
   "cell_type": "code",
   "execution_count": 29,
   "id": "5095ffff-5e85-46ea-91a3-462ea47a3113",
   "metadata": {},
   "outputs": [
    {
     "name": "stderr",
     "output_type": "stream",
     "text": [
      "[nltk_data] Downloading package stopwords to\n",
      "[nltk_data]     /Users/abhisriabbineni/nltk_data...\n",
      "[nltk_data]   Package stopwords is already up-to-date!\n",
      "[nltk_data] Downloading package wordnet to\n",
      "[nltk_data]     /Users/abhisriabbineni/nltk_data...\n",
      "[nltk_data]   Package wordnet is already up-to-date!\n",
      "/var/folders/dj/050xq7fs5gd1sh13t59ty0v00000gn/T/ipykernel_1533/1209457631.py:29: SettingWithCopyWarning: \n",
      "A value is trying to be set on a copy of a slice from a DataFrame.\n",
      "Try using .loc[row_indexer,col_indexer] = value instead\n",
      "\n",
      "See the caveats in the documentation: https://pandas.pydata.org/pandas-docs/stable/user_guide/indexing.html#returning-a-view-versus-a-copy\n",
      "  test_df_cleaned['crimeaditionalinfo'] = corpus\n"
     ]
    },
    {
     "data": {
      "text/html": [
       "<div>\n",
       "<style scoped>\n",
       "    .dataframe tbody tr th:only-of-type {\n",
       "        vertical-align: middle;\n",
       "    }\n",
       "\n",
       "    .dataframe tbody tr th {\n",
       "        vertical-align: top;\n",
       "    }\n",
       "\n",
       "    .dataframe thead th {\n",
       "        text-align: right;\n",
       "    }\n",
       "</style>\n",
       "<table border=\"1\" class=\"dataframe\">\n",
       "  <thead>\n",
       "    <tr style=\"text-align: right;\">\n",
       "      <th></th>\n",
       "      <th>category</th>\n",
       "      <th>sub_category</th>\n",
       "      <th>crimeaditionalinfo</th>\n",
       "    </tr>\n",
       "  </thead>\n",
       "  <tbody>\n",
       "    <tr>\n",
       "      <th>1</th>\n",
       "      <td>Online Financial Fraud</td>\n",
       "      <td>DebitCredit Card FraudSim Swap Fraud</td>\n",
       "      <td>kotak mahindra bank fraud fraud amount</td>\n",
       "    </tr>\n",
       "    <tr>\n",
       "      <th>2</th>\n",
       "      <td>Cyber Attack/ Dependent Crimes</td>\n",
       "      <td>SQL Injection</td>\n",
       "      <td>issue actually started got email first glance ...</td>\n",
       "    </tr>\n",
       "    <tr>\n",
       "      <th>3</th>\n",
       "      <td>Online Financial Fraud</td>\n",
       "      <td>Fraud CallVishing</td>\n",
       "      <td>amit kumar karwi chitrakoot totally depressed ...</td>\n",
       "    </tr>\n",
       "    <tr>\n",
       "      <th>4</th>\n",
       "      <td>Any Other Cyber Crime</td>\n",
       "      <td>Other</td>\n",
       "      <td>ordered saree blouse rinki sur paid amount tak...</td>\n",
       "    </tr>\n",
       "    <tr>\n",
       "      <th>5</th>\n",
       "      <td>Online Financial Fraud</td>\n",
       "      <td>Internet Banking Related Fraud</td>\n",
       "      <td>salary amount credited account jan st issue ba...</td>\n",
       "    </tr>\n",
       "  </tbody>\n",
       "</table>\n",
       "</div>"
      ],
      "text/plain": [
       "                         category                          sub_category  \\\n",
       "1          Online Financial Fraud  DebitCredit Card FraudSim Swap Fraud   \n",
       "2  Cyber Attack/ Dependent Crimes                         SQL Injection   \n",
       "3          Online Financial Fraud                     Fraud CallVishing   \n",
       "4           Any Other Cyber Crime                                 Other   \n",
       "5          Online Financial Fraud        Internet Banking Related Fraud   \n",
       "\n",
       "                                  crimeaditionalinfo  \n",
       "1             kotak mahindra bank fraud fraud amount  \n",
       "2  issue actually started got email first glance ...  \n",
       "3  amit kumar karwi chitrakoot totally depressed ...  \n",
       "4  ordered saree blouse rinki sur paid amount tak...  \n",
       "5  salary amount credited account jan st issue ba...  "
      ]
     },
     "execution_count": 29,
     "metadata": {},
     "output_type": "execute_result"
    }
   ],
   "source": [
    "# Import necessary libraries\n",
    "import nltk\n",
    "import re\n",
    "from nltk.corpus import stopwords\n",
    "from nltk.stem import WordNetLemmatizer\n",
    "\n",
    "# Download NLTK data files if not already downloaded\n",
    "nltk.download('stopwords')\n",
    "nltk.download('wordnet')\n",
    "\n",
    "# Create a list of text data from 'crimeaditionalinfo' column\n",
    "text = list(test_df_cleaned['crimeaditionalinfo'].astype(str))  # Convert to string in case of NaNs\n",
    "\n",
    "# Initialize lemmatizer and create a list to hold the processed text\n",
    "lemmatizer = WordNetLemmatizer()\n",
    "corpus = []\n",
    "\n",
    "# Text preprocessing loop\n",
    "for i in range(len(text)):\n",
    "    r = re.sub('[^a-zA-Z]', ' ', text[i])   # Keep only letters\n",
    "    r = r.lower()                           # Convert to lowercase\n",
    "    r = r.split()                           # Split into words\n",
    "    r = [word for word in r if word not in stopwords.words('english')]  # Remove stopwords\n",
    "    r = [lemmatizer.lemmatize(word) for word in r]   # Lemmatize words\n",
    "    r = ' '.join(r)                         # Join words back into a single string\n",
    "    corpus.append(r)\n",
    "\n",
    "# Assign the processed text back to the 'crimeaditionalinfo' column\n",
    "test_df_cleaned['crimeaditionalinfo'] = corpus\n",
    "\n",
    "# Display the head of the updated DataFrame\n",
    "test_df_cleaned.head()\n"
   ]
  },
  {
   "cell_type": "code",
   "execution_count": 31,
   "id": "79546f16-7b9b-498e-9eb7-442af7bc5736",
   "metadata": {},
   "outputs": [
    {
     "name": "stderr",
     "output_type": "stream",
     "text": [
      "[nltk_data] Downloading package stopwords to\n",
      "[nltk_data]     /Users/abhisriabbineni/nltk_data...\n",
      "[nltk_data]   Package stopwords is already up-to-date!\n",
      "[nltk_data] Downloading package wordnet to\n",
      "[nltk_data]     /Users/abhisriabbineni/nltk_data...\n",
      "[nltk_data]   Package wordnet is already up-to-date!\n",
      "/var/folders/dj/050xq7fs5gd1sh13t59ty0v00000gn/T/ipykernel_1533/3561497632.py:29: SettingWithCopyWarning: \n",
      "A value is trying to be set on a copy of a slice from a DataFrame.\n",
      "Try using .loc[row_indexer,col_indexer] = value instead\n",
      "\n",
      "See the caveats in the documentation: https://pandas.pydata.org/pandas-docs/stable/user_guide/indexing.html#returning-a-view-versus-a-copy\n",
      "  train_df_cleaned['crimeaditionalinfo'] = corpus\n"
     ]
    },
    {
     "data": {
      "text/html": [
       "<div>\n",
       "<style scoped>\n",
       "    .dataframe tbody tr th:only-of-type {\n",
       "        vertical-align: middle;\n",
       "    }\n",
       "\n",
       "    .dataframe tbody tr th {\n",
       "        vertical-align: top;\n",
       "    }\n",
       "\n",
       "    .dataframe thead th {\n",
       "        text-align: right;\n",
       "    }\n",
       "</style>\n",
       "<table border=\"1\" class=\"dataframe\">\n",
       "  <thead>\n",
       "    <tr style=\"text-align: right;\">\n",
       "      <th></th>\n",
       "      <th>category</th>\n",
       "      <th>sub_category</th>\n",
       "      <th>crimeaditionalinfo</th>\n",
       "    </tr>\n",
       "  </thead>\n",
       "  <tbody>\n",
       "    <tr>\n",
       "      <th>0</th>\n",
       "      <td>Online and Social Media Related Crime</td>\n",
       "      <td>Cyber Bullying  Stalking  Sexting</td>\n",
       "      <td>continue received random call abusive message ...</td>\n",
       "    </tr>\n",
       "    <tr>\n",
       "      <th>1</th>\n",
       "      <td>Online Financial Fraud</td>\n",
       "      <td>Fraud CallVishing</td>\n",
       "      <td>fraudster continuously messaging asking pay mo...</td>\n",
       "    </tr>\n",
       "    <tr>\n",
       "      <th>2</th>\n",
       "      <td>Online Gambling  Betting</td>\n",
       "      <td>Online Gambling  Betting</td>\n",
       "      <td>acting like police demanding money adding sect...</td>\n",
       "    </tr>\n",
       "    <tr>\n",
       "      <th>3</th>\n",
       "      <td>Online and Social Media Related Crime</td>\n",
       "      <td>Online Job Fraud</td>\n",
       "      <td>apna job applied job interview telecalling res...</td>\n",
       "    </tr>\n",
       "    <tr>\n",
       "      <th>4</th>\n",
       "      <td>Online Financial Fraud</td>\n",
       "      <td>Fraud CallVishing</td>\n",
       "      <td>received call lady stating send new phone vivo...</td>\n",
       "    </tr>\n",
       "  </tbody>\n",
       "</table>\n",
       "</div>"
      ],
      "text/plain": [
       "                                category                       sub_category  \\\n",
       "0  Online and Social Media Related Crime  Cyber Bullying  Stalking  Sexting   \n",
       "1                 Online Financial Fraud                  Fraud CallVishing   \n",
       "2               Online Gambling  Betting           Online Gambling  Betting   \n",
       "3  Online and Social Media Related Crime                   Online Job Fraud   \n",
       "4                 Online Financial Fraud                  Fraud CallVishing   \n",
       "\n",
       "                                  crimeaditionalinfo  \n",
       "0  continue received random call abusive message ...  \n",
       "1  fraudster continuously messaging asking pay mo...  \n",
       "2  acting like police demanding money adding sect...  \n",
       "3  apna job applied job interview telecalling res...  \n",
       "4  received call lady stating send new phone vivo...  "
      ]
     },
     "execution_count": 31,
     "metadata": {},
     "output_type": "execute_result"
    }
   ],
   "source": [
    "# Import necessary libraries\n",
    "import nltk\n",
    "import re\n",
    "from nltk.corpus import stopwords\n",
    "from nltk.stem import WordNetLemmatizer\n",
    "\n",
    "# Download NLTK data files if not already downloaded\n",
    "nltk.download('stopwords')\n",
    "nltk.download('wordnet')\n",
    "\n",
    "# Create a list of text data from 'crimeaditionalinfo' column\n",
    "text = list(train_df_cleaned['crimeaditionalinfo'].astype(str))  # Convert to string in case of NaNs\n",
    "\n",
    "# Initialize lemmatizer and create a list to hold the processed text\n",
    "lemmatizer = WordNetLemmatizer()\n",
    "corpus = []\n",
    "\n",
    "# Text preprocessing loop\n",
    "for i in range(len(text)):\n",
    "    r = re.sub('[^a-zA-Z]', ' ', text[i])   # Keep only letters\n",
    "    r = r.lower()                           # Convert to lowercase\n",
    "    r = r.split()                           # Split into words\n",
    "    r = [word for word in r if word not in stopwords.words('english')]  # Remove stopwords\n",
    "    r = [lemmatizer.lemmatize(word) for word in r]   # Lemmatize words\n",
    "    r = ' '.join(r)                         # Join words back into a single string\n",
    "    corpus.append(r)\n",
    "\n",
    "# Assign the processed text back to the 'crimeaditionalinfo' column\n",
    "train_df_cleaned['crimeaditionalinfo'] = corpus\n",
    "\n",
    "# Display the head of the updated DataFrame\n",
    "train_df_cleaned.head()\n"
   ]
  },
  {
   "cell_type": "code",
   "execution_count": 33,
   "id": "2666dd5c-e4b3-473a-a94b-893000726e4c",
   "metadata": {},
   "outputs": [],
   "source": [
    "X_train = train_df_cleaned[['category', 'crimeaditionalinfo']]\n",
    "y_train = train_df_cleaned['sub_category']\n",
    "\n",
    "X_test = test_df_cleaned[['category', 'crimeaditionalinfo']]\n",
    "y_test = test_df_cleaned['sub_category']"
   ]
  },
  {
   "cell_type": "code",
   "execution_count": 35,
   "id": "b1415e45-5956-412b-aeb3-c478aa945fbf",
   "metadata": {},
   "outputs": [
    {
     "data": {
      "text/plain": [
       "array(['Cyber Bullying  Stalking  Sexting', 'Fraud CallVishing',\n",
       "       'Online Gambling  Betting', 'Online Job Fraud',\n",
       "       'UPI Related Frauds', 'Internet Banking Related Fraud', 'Other',\n",
       "       'Profile Hacking Identity Theft',\n",
       "       'DebitCredit Card FraudSim Swap Fraud', 'EWallet Related Fraud',\n",
       "       'Data Breach/Theft', 'Cheating by Impersonation',\n",
       "       'Denial of Service (DoS)/Distributed Denial of Service (DDOS) attacks',\n",
       "       'FakeImpersonating Profile', 'Cryptocurrency Fraud',\n",
       "       'Malware Attack', 'Business Email CompromiseEmail Takeover',\n",
       "       'Email Hacking', 'Hacking/Defacement',\n",
       "       'Unauthorised AccessData Breach', 'SQL Injection',\n",
       "       'Provocative Speech for unlawful acts', 'Ransomware Attack',\n",
       "       'Cyber Terrorism', 'Tampering with computer source documents',\n",
       "       'DematDepository Fraud', 'Online Trafficking',\n",
       "       'Online Matrimonial Fraud', 'Website DefacementHacking',\n",
       "       'Damage to computer computer systems etc', 'Impersonating Email',\n",
       "       'EMail Phishing', 'Ransomware', 'Intimidating Email',\n",
       "       'Against Interest of sovereignty or integrity of India'],\n",
       "      dtype=object)"
      ]
     },
     "execution_count": 35,
     "metadata": {},
     "output_type": "execute_result"
    }
   ],
   "source": [
    "y_train.unique()"
   ]
  },
  {
   "cell_type": "code",
   "execution_count": 37,
   "id": "bdf7da5d-5371-4a61-b6ec-a8f80bf139b8",
   "metadata": {},
   "outputs": [],
   "source": [
    "def connotation_to_int(string):\n",
    "    dictionary = {'Cyber Bullying  Stalking  Sexting': 0, 'Fraud CallVishing': 1,\n",
    "       'Online Gambling  Betting': 2, 'Online Job Fraud': 3,\n",
    "       'UPI Related Frauds': 4, 'Internet Banking Related Fraud': 5, None: 6,\n",
    "       'Other': 7, 'Profile Hacking Identity Theft': 8,\n",
    "       'DebitCredit Card FraudSim Swap Fraud': 9, 'EWallet Related Fraud': 10,\n",
    "       'Data Breach/Theft': 11, 'Cheating by Impersonation': 12,\n",
    "       'Denial of Service (DoS)/Distributed Denial of Service (DDOS) attacks': 13,\n",
    "       'FakeImpersonating Profile': 14, 'Cryptocurrency Fraud': 15,\n",
    "       'Malware Attack': 16, 'Business Email CompromiseEmail Takeover': 17,\n",
    "       'Email Hacking': 18, 'Hacking/Defacement': 19,\n",
    "       'Unauthorised AccessData Breach': 20, 'SQL Injection': 21,\n",
    "       'Provocative Speech for unlawful acts': 22, 'Ransomware Attack': 23,\n",
    "       'Cyber Terrorism': 24, 'Tampering with computer source documents': 25,\n",
    "       'DematDepository Fraud': 26, 'Online Trafficking': 27,\n",
    "       'Online Matrimonial Fraud': 28, 'Website DefacementHacking': 29,\n",
    "       'Damage to computer computer systems etc': 30, 'Impersonating Email': 31,\n",
    "       'EMail Phishing': 32, 'Ransomware': 33, 'Intimidating Email': 34,\n",
    "       'Against Interest of sovereignty or integrity of India': 35               \n",
    "                 }\n",
    "    \n",
    "    return dictionary.get(string,-1)\n"
   ]
  },
  {
   "cell_type": "code",
   "execution_count": 39,
   "id": "02a41982-2aff-418d-8136-41055d125e0d",
   "metadata": {},
   "outputs": [],
   "source": [
    "y_train = y_train.apply(lambda y: connotation_to_int(y))\n",
    "y_test = y_test.apply(lambda y: connotation_to_int(y))"
   ]
  },
  {
   "cell_type": "code",
   "execution_count": 41,
   "id": "2e9cb3cb-9ea5-4706-adcd-9dc4f8aaab6b",
   "metadata": {},
   "outputs": [
    {
     "name": "stderr",
     "output_type": "stream",
     "text": [
      "/Users/abhisriabbineni/Desktop/anaconda3/lib/python3.12/site-packages/sklearn/model_selection/_split.py:737: UserWarning: The least populated class in y has only 1 members, which is less than n_splits=5.\n",
      "  warnings.warn(\n"
     ]
    },
    {
     "name": "stdout",
     "output_type": "stream",
     "text": [
      "Train accuracy: 0.422445276431541\n",
      "Test accuracy: 0.4228447234967399\n",
      "\n",
      "Train Report\n",
      "\n",
      "              precision    recall  f1-score   support\n",
      "\n",
      "           0       0.56      0.53      0.54      4089\n",
      "           1       0.00      0.00      0.00      5802\n",
      "           2       0.00      0.00      0.00       444\n",
      "           3       0.25      0.00      0.00       912\n",
      "           4       0.38      0.94      0.54     26843\n",
      "           5       0.80      0.21      0.33      8871\n",
      "           7       0.00      0.00      0.00     10877\n",
      "           8       0.38      0.22      0.28      2072\n",
      "           9       0.53      0.64      0.58     10802\n",
      "          10       0.00      0.00      0.00      4047\n",
      "          11       0.00      0.00      0.00       484\n",
      "          12       0.00      0.00      0.00      1987\n",
      "          13       0.00      0.00      0.00       504\n",
      "          14       0.54      0.02      0.03      2299\n",
      "          15       0.49      0.28      0.35       480\n",
      "          16       0.00      0.00      0.00       521\n",
      "          17       0.00      0.00      0.00       290\n",
      "          18       0.30      0.04      0.07       349\n",
      "          19       0.00      0.00      0.00       540\n",
      "          20       0.00      0.00      0.00      1114\n",
      "          21       0.00      0.00      0.00       508\n",
      "          22       0.00      0.00      0.00       417\n",
      "          23       0.00      0.00      0.00       534\n",
      "          24       0.00      0.00      0.00       161\n",
      "          25       0.00      0.00      0.00       567\n",
      "          26       0.00      0.00      0.00       761\n",
      "          27       0.00      0.00      0.00       183\n",
      "          28       0.00      0.00      0.00       132\n",
      "          29       0.00      0.00      0.00        89\n",
      "          30       0.00      0.00      0.00       108\n",
      "          31       0.00      0.00      0.00        44\n",
      "          32       0.00      0.00      0.00       157\n",
      "          33       0.52      0.25      0.34        56\n",
      "          34       0.00      0.00      0.00        29\n",
      "          35       0.00      0.00      0.00         1\n",
      "\n",
      "    accuracy                           0.42     87074\n",
      "   macro avg       0.14      0.09      0.09     87074\n",
      "weighted avg       0.32      0.42      0.31     87074\n",
      "\n",
      "\n",
      "Test Report\n",
      "\n",
      "              precision    recall  f1-score   support\n",
      "\n",
      "          -1       0.00      0.00      0.00         4\n",
      "           0       0.57      0.53      0.55      1366\n",
      "           1       0.00      0.00      0.00      1826\n",
      "           2       0.00      0.00      0.00       134\n",
      "           3       0.00      0.00      0.00       294\n",
      "           4       0.38      0.94      0.54      8886\n",
      "           5       0.80      0.21      0.33      2973\n",
      "           7       0.00      0.00      0.00      3670\n",
      "           8       0.38      0.22      0.28       751\n",
      "           9       0.53      0.66      0.59      3555\n",
      "          10       0.00      0.00      0.00      1338\n",
      "          11       0.00      0.00      0.00       171\n",
      "          12       0.00      0.00      0.00       719\n",
      "          13       0.00      0.00      0.00       187\n",
      "          14       0.60      0.02      0.03       763\n",
      "          15       0.48      0.28      0.36       166\n",
      "          16       0.00      0.00      0.00       170\n",
      "          17       0.00      0.00      0.00        90\n",
      "          18       0.14      0.02      0.03       130\n",
      "          19       0.00      0.00      0.00       200\n",
      "          20       0.00      0.00      0.00       370\n",
      "          21       0.00      0.00      0.00       167\n",
      "          22       0.00      0.00      0.00       130\n",
      "          23       0.00      0.00      0.00       186\n",
      "          24       0.00      0.00      0.00        52\n",
      "          25       0.00      0.00      0.00       194\n",
      "          26       0.00      0.00      0.00       222\n",
      "          27       0.00      0.00      0.00        61\n",
      "          28       0.00      0.00      0.00        38\n",
      "          29       0.00      0.00      0.00        39\n",
      "          30       0.00      0.00      0.00        39\n",
      "          31       0.00      0.00      0.00        13\n",
      "          32       0.00      0.00      0.00        54\n",
      "          33       0.40      0.22      0.29        18\n",
      "          34       0.00      0.00      0.00        11\n",
      "\n",
      "    accuracy                           0.42     28987\n",
      "   macro avg       0.12      0.09      0.09     28987\n",
      "weighted avg       0.32      0.42      0.31     28987\n",
      "\n"
     ]
    },
    {
     "name": "stderr",
     "output_type": "stream",
     "text": [
      "/Users/abhisriabbineni/Desktop/anaconda3/lib/python3.12/site-packages/sklearn/metrics/_classification.py:1509: UndefinedMetricWarning: Precision is ill-defined and being set to 0.0 in labels with no predicted samples. Use `zero_division` parameter to control this behavior.\n",
      "  _warn_prf(average, modifier, f\"{metric.capitalize()} is\", len(result))\n",
      "/Users/abhisriabbineni/Desktop/anaconda3/lib/python3.12/site-packages/sklearn/metrics/_classification.py:1509: UndefinedMetricWarning: Precision is ill-defined and being set to 0.0 in labels with no predicted samples. Use `zero_division` parameter to control this behavior.\n",
      "  _warn_prf(average, modifier, f\"{metric.capitalize()} is\", len(result))\n",
      "/Users/abhisriabbineni/Desktop/anaconda3/lib/python3.12/site-packages/sklearn/metrics/_classification.py:1509: UndefinedMetricWarning: Precision is ill-defined and being set to 0.0 in labels with no predicted samples. Use `zero_division` parameter to control this behavior.\n",
      "  _warn_prf(average, modifier, f\"{metric.capitalize()} is\", len(result))\n",
      "/Users/abhisriabbineni/Desktop/anaconda3/lib/python3.12/site-packages/sklearn/metrics/_classification.py:1509: UndefinedMetricWarning: Precision is ill-defined and being set to 0.0 in labels with no predicted samples. Use `zero_division` parameter to control this behavior.\n",
      "  _warn_prf(average, modifier, f\"{metric.capitalize()} is\", len(result))\n",
      "/Users/abhisriabbineni/Desktop/anaconda3/lib/python3.12/site-packages/sklearn/metrics/_classification.py:1509: UndefinedMetricWarning: Precision is ill-defined and being set to 0.0 in labels with no predicted samples. Use `zero_division` parameter to control this behavior.\n",
      "  _warn_prf(average, modifier, f\"{metric.capitalize()} is\", len(result))\n",
      "/Users/abhisriabbineni/Desktop/anaconda3/lib/python3.12/site-packages/sklearn/metrics/_classification.py:1509: UndefinedMetricWarning: Precision is ill-defined and being set to 0.0 in labels with no predicted samples. Use `zero_division` parameter to control this behavior.\n",
      "  _warn_prf(average, modifier, f\"{metric.capitalize()} is\", len(result))\n"
     ]
    }
   ],
   "source": [
    "from sklearn.linear_model import SGDClassifier\n",
    "from sklearn.pipeline import Pipeline\n",
    "from sklearn.feature_extraction.text import TfidfTransformer, CountVectorizer\n",
    "from sklearn.calibration import CalibratedClassifierCV\n",
    "from sklearn.metrics import accuracy_score, classification_report\n",
    "\n",
    "# Define the model pipeline\n",
    "model = Pipeline([\n",
    "    ('vect', CountVectorizer(ngram_range=(1, 10), min_df=5, max_df=0.70)),\n",
    "    ('tfidf', TfidfTransformer(norm='l1')),\n",
    "    ('clf', CalibratedClassifierCV(estimator=SGDClassifier(penalty='elasticnet', alpha=0.001, max_iter=500, l1_ratio=0.1, random_state=45, class_weight=\"balanced\"), \n",
    "        method='isotonic'\n",
    "    )),\n",
    "])\n",
    "\n",
    "\n",
    "\n",
    "# Handle NaN values in 'crime_additional_info' by filling with empty strings\n",
    "X_train.loc[:, 'crimeaditionalinfo'] = X_train['crimeaditionalinfo'].fillna('')\n",
    "X_test.loc[:, 'crimeaditionalinfo'] = X_test['crimeaditionalinfo'].fillna('')\n",
    "\n",
    "# Fit the model\n",
    "model.fit(X_train['crimeaditionalinfo'], y_train)\n",
    "\n",
    "# Predictions\n",
    "train_y_pred = model.predict(X_train['crimeaditionalinfo'])\n",
    "test_y_pred = model.predict(X_test['crimeaditionalinfo'])\n",
    "\n",
    "# Accuracy and classification reports\n",
    "print('Train accuracy: %s' % accuracy_score(y_train, train_y_pred))\n",
    "print('Test accuracy: %s' % accuracy_score(y_test, test_y_pred))\n",
    "\n",
    "print('\\nTrain Report\\n')\n",
    "print(classification_report(y_train, train_y_pred))\n",
    "\n",
    "print('\\nTest Report\\n')\n",
    "print(classification_report(y_test, test_y_pred))\n"
   ]
  },
  {
   "cell_type": "code",
   "execution_count": 1,
   "id": "ae2935e7-464a-418a-bb80-43099f0fe806",
   "metadata": {},
   "outputs": [
    {
     "ename": "NameError",
     "evalue": "name 'model' is not defined",
     "output_type": "error",
     "traceback": [
      "\u001b[1;31m---------------------------------------------------------------------------\u001b[0m",
      "\u001b[1;31mNameError\u001b[0m                                 Traceback (most recent call last)",
      "Cell \u001b[1;32mIn[1], line 1\u001b[0m\n\u001b[1;32m----> 1\u001b[0m model\u001b[38;5;241m.\u001b[39msummary()\n",
      "\u001b[1;31mNameError\u001b[0m: name 'model' is not defined"
     ]
    }
   ],
   "source": []
  },
  {
   "cell_type": "code",
   "execution_count": null,
   "id": "f6cfb507",
   "metadata": {},
   "outputs": [],
   "source": []
  }
 ],
 "metadata": {
  "kernelspec": {
   "display_name": "Python 3 (ipykernel)",
   "language": "python",
   "name": "python3"
  },
  "language_info": {
   "codemirror_mode": {
    "name": "ipython",
    "version": 3
   },
   "file_extension": ".py",
   "mimetype": "text/x-python",
   "name": "python",
   "nbconvert_exporter": "python",
   "pygments_lexer": "ipython3",
   "version": "3.11.5"
  }
 },
 "nbformat": 4,
 "nbformat_minor": 5
}

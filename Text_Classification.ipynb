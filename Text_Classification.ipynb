{
 "cells": [
  {
   "cell_type": "code",
   "execution_count": 1,
   "metadata": {
    "id": "AXQ5BbTKT4sh"
   },
   "outputs": [],
   "source": [
    "import numpy as np\n",
    "import pandas as pd\n",
    "import matplotlib.pyplot as plt"
   ]
  },
  {
   "cell_type": "code",
   "execution_count": 6,
   "metadata": {
    "id": "6_P1BGfKUPVu"
   },
   "outputs": [],
   "source": [
    "train_df = pd.read_csv(r'\\Users\\Greesma\\Desktop\\NLP\\train.csv', encoding='ISO-8859-1', low_memory=False)\n",
    "test_df = pd.read_csv(r'\\Users\\Greesma\\Desktop\\NLP\\test.csv')"
   ]
  },
  {
   "cell_type": "code",
   "execution_count": 7,
   "metadata": {
    "colab": {
     "base_uri": "https://localhost:8080/",
     "height": 206
    },
    "id": "DvOzXuQ9XZej",
    "outputId": "dd9846ff-35b2-402f-f0ee-639b85ec2799"
   },
   "outputs": [
    {
     "data": {
      "text/html": [
       "<div>\n",
       "<style scoped>\n",
       "    .dataframe tbody tr th:only-of-type {\n",
       "        vertical-align: middle;\n",
       "    }\n",
       "\n",
       "    .dataframe tbody tr th {\n",
       "        vertical-align: top;\n",
       "    }\n",
       "\n",
       "    .dataframe thead th {\n",
       "        text-align: right;\n",
       "    }\n",
       "</style>\n",
       "<table border=\"1\" class=\"dataframe\">\n",
       "  <thead>\n",
       "    <tr style=\"text-align: right;\">\n",
       "      <th></th>\n",
       "      <th>category</th>\n",
       "      <th>sub_category</th>\n",
       "      <th>crimeaditionalinfo</th>\n",
       "    </tr>\n",
       "  </thead>\n",
       "  <tbody>\n",
       "    <tr>\n",
       "      <th>0</th>\n",
       "      <td>Online and Social Media Related Crime</td>\n",
       "      <td>Cyber Bullying  Stalking  Sexting</td>\n",
       "      <td>I had continue received random calls and abusi...</td>\n",
       "    </tr>\n",
       "    <tr>\n",
       "      <th>1</th>\n",
       "      <td>Online Financial Fraud</td>\n",
       "      <td>Fraud CallVishing</td>\n",
       "      <td>The above fraudster is continuously messaging ...</td>\n",
       "    </tr>\n",
       "    <tr>\n",
       "      <th>2</th>\n",
       "      <td>Online Gambling  Betting</td>\n",
       "      <td>Online Gambling  Betting</td>\n",
       "      <td>He is acting like a police and demanding for m...</td>\n",
       "    </tr>\n",
       "    <tr>\n",
       "      <th>3</th>\n",
       "      <td>Online and Social Media Related Crime</td>\n",
       "      <td>Online Job Fraud</td>\n",
       "      <td>In apna Job I have applied for job interview f...</td>\n",
       "    </tr>\n",
       "    <tr>\n",
       "      <th>4</th>\n",
       "      <td>Online Financial Fraud</td>\n",
       "      <td>Fraud CallVishing</td>\n",
       "      <td>I received a call from lady stating that she w...</td>\n",
       "    </tr>\n",
       "  </tbody>\n",
       "</table>\n",
       "</div>"
      ],
      "text/plain": [
       "                                category                       sub_category  \\\n",
       "0  Online and Social Media Related Crime  Cyber Bullying  Stalking  Sexting   \n",
       "1                 Online Financial Fraud                  Fraud CallVishing   \n",
       "2               Online Gambling  Betting           Online Gambling  Betting   \n",
       "3  Online and Social Media Related Crime                   Online Job Fraud   \n",
       "4                 Online Financial Fraud                  Fraud CallVishing   \n",
       "\n",
       "                                  crimeaditionalinfo  \n",
       "0  I had continue received random calls and abusi...  \n",
       "1  The above fraudster is continuously messaging ...  \n",
       "2  He is acting like a police and demanding for m...  \n",
       "3  In apna Job I have applied for job interview f...  \n",
       "4  I received a call from lady stating that she w...  "
      ]
     },
     "execution_count": 7,
     "metadata": {},
     "output_type": "execute_result"
    }
   ],
   "source": [
    "train_df.head(5)"
   ]
  },
  {
   "cell_type": "code",
   "execution_count": 8,
   "metadata": {
    "id": "h9TGoqr0XeOG"
   },
   "outputs": [],
   "source": [
    "X_train = train_df[['category', 'crimeaditionalinfo']]\n",
    "y_train = train_df['sub_category']\n",
    "\n",
    "X_test = test_df[['category', 'crimeaditionalinfo']]\n",
    "y_test = test_df['sub_category']"
   ]
  },
  {
   "cell_type": "code",
   "execution_count": 9,
   "metadata": {
    "colab": {
     "base_uri": "https://localhost:8080/"
    },
    "id": "wNr65mPaXtLP",
    "outputId": "318fed7a-7052-4f87-f001-44cb97b71fef"
   },
   "outputs": [
    {
     "data": {
      "text/plain": [
       "array(['Cyber Bullying  Stalking  Sexting', 'Fraud CallVishing',\n",
       "       'Online Gambling  Betting', 'Online Job Fraud',\n",
       "       'UPI Related Frauds', 'Internet Banking Related Fraud', nan,\n",
       "       'Other', 'Profile Hacking Identity Theft',\n",
       "       'DebitCredit Card FraudSim Swap Fraud', 'EWallet Related Fraud',\n",
       "       'Data Breach/Theft', 'Cheating by Impersonation',\n",
       "       'Denial of Service (DoS)/Distributed Denial of Service (DDOS) attacks',\n",
       "       'FakeImpersonating Profile', 'Cryptocurrency Fraud',\n",
       "       'Malware Attack', 'Business Email CompromiseEmail Takeover',\n",
       "       'Email Hacking', 'Hacking/Defacement',\n",
       "       'Unauthorised AccessData Breach', 'SQL Injection',\n",
       "       'Provocative Speech for unlawful acts', 'Ransomware Attack',\n",
       "       'Cyber Terrorism', 'Tampering with computer source documents',\n",
       "       'DematDepository Fraud', 'Online Trafficking',\n",
       "       'Online Matrimonial Fraud', 'Website DefacementHacking',\n",
       "       'Damage to computer computer systems etc', 'Impersonating Email',\n",
       "       'EMail Phishing', 'Ransomware', 'Intimidating Email',\n",
       "       'Against Interest of sovereignty or integrity of India'],\n",
       "      dtype=object)"
      ]
     },
     "execution_count": 9,
     "metadata": {},
     "output_type": "execute_result"
    }
   ],
   "source": [
    "y_train.unique()"
   ]
  },
  {
   "cell_type": "code",
   "execution_count": 10,
   "metadata": {
    "id": "d7_K2r14XyHp"
   },
   "outputs": [],
   "source": [
    "def connotation_to_int(string):\n",
    "    dictionary = {'Cyber Bullying  Stalking  Sexting': 0, 'Fraud CallVishing': 1,\n",
    "       'Online Gambling  Betting': 2, 'Online Job Fraud': 3,\n",
    "       'UPI Related Frauds': 4, 'Internet Banking Related Fraud': 5, None: 6,\n",
    "       'Other': 7, 'Profile Hacking Identity Theft': 8,\n",
    "       'DebitCredit Card FraudSim Swap Fraud': 9, 'EWallet Related Fraud': 10,\n",
    "       'Data Breach/Theft': 11, 'Cheating by Impersonation': 12,\n",
    "       'Denial of Service (DoS)/Distributed Denial of Service (DDOS) attacks': 13,\n",
    "       'FakeImpersonating Profile': 14, 'Cryptocurrency Fraud': 15,\n",
    "       'Malware Attack': 16, 'Business Email CompromiseEmail Takeover': 17,\n",
    "       'Email Hacking': 18, 'Hacking/Defacement': 19,\n",
    "       'Unauthorised AccessData Breach': 20, 'SQL Injection': 21,\n",
    "       'Provocative Speech for unlawful acts': 22, 'Ransomware Attack': 23,\n",
    "       'Cyber Terrorism': 24, 'Tampering with computer source documents': 25,\n",
    "       'DematDepository Fraud': 26, 'Online Trafficking': 27,\n",
    "       'Online Matrimonial Fraud': 28, 'Website DefacementHacking': 29,\n",
    "       'Damage to computer computer systems etc': 30, 'Impersonating Email': 31,\n",
    "       'EMail Phishing': 32, 'Ransomware': 33, 'Intimidating Email': 34,\n",
    "       'Against Interest of sovereignty or integrity of India': 35               \n",
    "                 }\n",
    "    \n",
    "    return dictionary.get(string,-1)\n"
   ]
  },
  {
   "cell_type": "code",
   "execution_count": 11,
   "metadata": {
    "id": "aRAMtdQ5XyKe"
   },
   "outputs": [],
   "source": [
    "y_train = y_train.apply(lambda y: connotation_to_int(y))\n",
    "y_test = y_test.apply(lambda y: connotation_to_int(y))"
   ]
  },
  {
   "cell_type": "code",
   "execution_count": 12,
   "metadata": {
    "colab": {
     "base_uri": "https://localhost:8080/"
    },
    "id": "E6OQhBYkYDvo",
    "outputId": "2845f899-8c31-4557-c985-8e2ccb84f8fe"
   },
   "outputs": [
    {
     "name": "stderr",
     "output_type": "stream",
     "text": [
      "C:\\Users\\Greesma\\anaconda3\\Lib\\site-packages\\sklearn\\model_selection\\_split.py:725: UserWarning: The least populated class in y has only 1 members, which is less than n_splits=5.\n",
      "  warnings.warn(\n"
     ]
    },
    {
     "name": "stdout",
     "output_type": "stream",
     "text": [
      "Train accuracy: 0.3063531370749098\n",
      "Test accuracy: 0.30471676966921774\n",
      "\n",
      "Train Report\n",
      "\n",
      "              precision    recall  f1-score   support\n",
      "\n",
      "          -1       0.00      0.00      0.00      6591\n",
      "           0       0.45      0.48      0.46      4089\n",
      "           1       0.00      0.00      0.00      5803\n",
      "           2       0.00      0.00      0.00       444\n",
      "           3       0.00      0.00      0.00       912\n",
      "           4       0.30      0.99      0.46     26856\n",
      "           5       0.00      0.00      0.00      8872\n",
      "           7       0.00      0.00      0.00     10878\n",
      "           8       0.00      0.00      0.00      2073\n",
      "           9       0.00      0.00      0.00     10805\n",
      "          10       0.00      0.00      0.00      4047\n",
      "          11       0.00      0.00      0.00       484\n",
      "          12       0.00      0.00      0.00      1988\n",
      "          13       0.00      0.00      0.00       504\n",
      "          14       0.00      0.00      0.00      2299\n",
      "          15       0.00      0.00      0.00       480\n",
      "          16       0.00      0.00      0.00       521\n",
      "          17       0.00      0.00      0.00       290\n",
      "          18       0.27      0.12      0.17       349\n",
      "          19       0.00      0.00      0.00       540\n",
      "          20       0.00      0.00      0.00      1114\n",
      "          21       0.00      0.00      0.00       508\n",
      "          22       0.00      0.00      0.00       417\n",
      "          23       0.00      0.00      0.00       534\n",
      "          24       0.00      0.00      0.00       161\n",
      "          25       0.00      0.00      0.00       567\n",
      "          26       0.00      0.00      0.00       761\n",
      "          27       0.00      0.00      0.00       183\n",
      "          28       0.00      0.00      0.00       132\n",
      "          29       0.00      0.00      0.00        89\n",
      "          30       0.00      0.00      0.00       108\n",
      "          31       0.00      0.00      0.00        44\n",
      "          32       0.00      0.00      0.00       157\n",
      "          33       0.42      0.25      0.31        56\n",
      "          34       0.00      0.00      0.00        29\n",
      "          35       0.00      0.00      0.00         1\n",
      "\n",
      "    accuracy                           0.31     93686\n",
      "   macro avg       0.04      0.05      0.04     93686\n",
      "weighted avg       0.11      0.31      0.15     93686\n",
      "\n",
      "\n",
      "Test Report\n",
      "\n",
      "              precision    recall  f1-score   support\n",
      "\n",
      "          -1       0.00      0.00      0.00      2240\n",
      "           0       0.45      0.48      0.46      1366\n",
      "           1       0.00      0.00      0.00      1827\n",
      "           2       0.00      0.00      0.00       134\n",
      "           3       0.00      0.00      0.00       294\n",
      "           4       0.30      0.99      0.46      8890\n",
      "           5       0.00      0.00      0.00      2973\n",
      "           7       0.00      0.00      0.00      3670\n",
      "           8       0.00      0.00      0.00       751\n",
      "           9       0.00      0.00      0.00      3556\n",
      "          10       0.00      0.00      0.00      1338\n",
      "          11       0.00      0.00      0.00       171\n",
      "          12       0.00      0.00      0.00       719\n",
      "          13       0.00      0.00      0.00       187\n",
      "          14       0.00      0.00      0.00       763\n",
      "          15       0.00      0.00      0.00       166\n",
      "          16       0.00      0.00      0.00       170\n",
      "          17       0.00      0.00      0.00        90\n",
      "          18       0.23      0.11      0.15       130\n",
      "          19       0.00      0.00      0.00       200\n",
      "          20       0.00      0.00      0.00       370\n",
      "          21       0.00      0.00      0.00       167\n",
      "          22       0.00      0.00      0.00       130\n",
      "          23       0.00      0.00      0.00       186\n",
      "          24       0.00      0.00      0.00        52\n",
      "          25       0.00      0.00      0.00       194\n",
      "          26       0.00      0.00      0.00       222\n",
      "          27       0.00      0.00      0.00        61\n",
      "          28       0.00      0.00      0.00        38\n",
      "          29       0.00      0.00      0.00        39\n",
      "          30       0.00      0.00      0.00        39\n",
      "          31       0.00      0.00      0.00        13\n",
      "          32       0.00      0.00      0.00        54\n",
      "          33       0.60      0.33      0.43        18\n",
      "          34       0.00      0.00      0.00        11\n",
      "\n",
      "    accuracy                           0.30     31229\n",
      "   macro avg       0.05      0.05      0.04     31229\n",
      "weighted avg       0.11      0.30      0.15     31229\n",
      "\n"
     ]
    },
    {
     "name": "stderr",
     "output_type": "stream",
     "text": [
      "C:\\Users\\Greesma\\anaconda3\\Lib\\site-packages\\sklearn\\metrics\\_classification.py:1469: UndefinedMetricWarning: Precision and F-score are ill-defined and being set to 0.0 in labels with no predicted samples. Use `zero_division` parameter to control this behavior.\n",
      "  _warn_prf(average, modifier, msg_start, len(result))\n",
      "C:\\Users\\Greesma\\anaconda3\\Lib\\site-packages\\sklearn\\metrics\\_classification.py:1469: UndefinedMetricWarning: Precision and F-score are ill-defined and being set to 0.0 in labels with no predicted samples. Use `zero_division` parameter to control this behavior.\n",
      "  _warn_prf(average, modifier, msg_start, len(result))\n",
      "C:\\Users\\Greesma\\anaconda3\\Lib\\site-packages\\sklearn\\metrics\\_classification.py:1469: UndefinedMetricWarning: Precision and F-score are ill-defined and being set to 0.0 in labels with no predicted samples. Use `zero_division` parameter to control this behavior.\n",
      "  _warn_prf(average, modifier, msg_start, len(result))\n",
      "C:\\Users\\Greesma\\anaconda3\\Lib\\site-packages\\sklearn\\metrics\\_classification.py:1469: UndefinedMetricWarning: Precision and F-score are ill-defined and being set to 0.0 in labels with no predicted samples. Use `zero_division` parameter to control this behavior.\n",
      "  _warn_prf(average, modifier, msg_start, len(result))\n",
      "C:\\Users\\Greesma\\anaconda3\\Lib\\site-packages\\sklearn\\metrics\\_classification.py:1469: UndefinedMetricWarning: Precision and F-score are ill-defined and being set to 0.0 in labels with no predicted samples. Use `zero_division` parameter to control this behavior.\n",
      "  _warn_prf(average, modifier, msg_start, len(result))\n",
      "C:\\Users\\Greesma\\anaconda3\\Lib\\site-packages\\sklearn\\metrics\\_classification.py:1469: UndefinedMetricWarning: Precision and F-score are ill-defined and being set to 0.0 in labels with no predicted samples. Use `zero_division` parameter to control this behavior.\n",
      "  _warn_prf(average, modifier, msg_start, len(result))\n"
     ]
    }
   ],
   "source": [
    "from sklearn.linear_model import SGDClassifier\n",
    "from sklearn.pipeline import Pipeline\n",
    "from sklearn.feature_extraction.text import TfidfTransformer, CountVectorizer\n",
    "from sklearn.calibration import CalibratedClassifierCV\n",
    "from sklearn.metrics import accuracy_score, classification_report\n",
    "\n",
    "# Define the model pipeline\n",
    "model = Pipeline([\n",
    "    ('vect', CountVectorizer(ngram_range=(1, 10), min_df=5, max_df=0.70)),\n",
    "    ('tfidf', TfidfTransformer(norm='l1')),\n",
    "    ('clf', CalibratedClassifierCV(estimator=SGDClassifier(penalty='elasticnet', alpha=0.001, max_iter=500, l1_ratio=0.1, random_state=45, class_weight=\"balanced\"), \n",
    "        method='isotonic'\n",
    "    )),\n",
    "])\n",
    "\n",
    "# Handle NaN values in 'crime_additional_info' by filling with empty strings\n",
    "X_train.loc[:, 'crimeaditionalinfo'] = X_train['crimeaditionalinfo'].fillna('')\n",
    "X_test.loc[:, 'crimeaditionalinfo'] = X_test['crimeaditionalinfo'].fillna('')\n",
    "\n",
    "# Fit the model\n",
    "model.fit(X_train['crimeaditionalinfo'], y_train)\n",
    "\n",
    "# Predictions\n",
    "train_y_pred = model.predict(X_train['crimeaditionalinfo'])\n",
    "test_y_pred = model.predict(X_test['crimeaditionalinfo'])\n",
    "\n",
    "# Accuracy and classification reports\n",
    "print('Train accuracy: %s' % accuracy_score(y_train, train_y_pred))\n",
    "print('Test accuracy: %s' % accuracy_score(y_test, test_y_pred))\n",
    "\n",
    "print('\\nTrain Report\\n')\n",
    "print(classification_report(y_train, train_y_pred))\n",
    "\n",
    "print('\\nTest Report\\n')\n",
    "print(classification_report(y_test, test_y_pred))\n"
   ]
  },
  {
   "cell_type": "code",
   "execution_count": null,
   "metadata": {},
   "outputs": [],
   "source": []
  }
 ],
 "metadata": {
  "colab": {
   "provenance": []
  },
  "kernelspec": {
   "display_name": "Python 3 (ipykernel)",
   "language": "python",
   "name": "python3"
  },
  "language_info": {
   "codemirror_mode": {
    "name": "ipython",
    "version": 3
   },
   "file_extension": ".py",
   "mimetype": "text/x-python",
   "name": "python",
   "nbconvert_exporter": "python",
   "pygments_lexer": "ipython3",
   "version": "3.11.5"
  }
 },
 "nbformat": 4,
 "nbformat_minor": 4
}
